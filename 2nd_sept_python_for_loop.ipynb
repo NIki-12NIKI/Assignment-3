{
 "cells": [
  {
   "cell_type": "code",
   "execution_count": 1,
   "id": "fd0c93b5-a125-4092-8c35-4b78e32d6ef2",
   "metadata": {},
   "outputs": [
    {
     "name": "stdout",
     "output_type": "stream",
     "text": [
      "1\n",
      "2\n",
      "3\n",
      "4\n",
      "5\n",
      "6\n",
      "7\n",
      "8\n",
      "9\n",
      "10\n"
     ]
    }
   ],
   "source": [
    "#1. Write a Python program to print the numbers from 1 to 10 using a `for` loop.\n",
    "for i in range(1, 11):\n",
    "    print(i)"
   ]
  },
  {
   "cell_type": "code",
   "execution_count": 3,
   "id": "fe71a580-545f-4bb4-9a0c-6e7ace02fde4",
   "metadata": {},
   "outputs": [
    {
     "name": "stdout",
     "output_type": "stream",
     "text": [
      "Sum of all elements in given list:  74\n"
     ]
    }
   ],
   "source": [
    "#2. Create a program that calculates the sum of all numbers in a list using a `for` loop.\n",
    "sum = 0\n",
    "list1 = [11, 5, 17, 18, 23]\n",
    "for i in range(0, len(list1)):\n",
    "    sum = sum + list1[i]\n",
    "print(\"Sum of all elements in given list: \", sum)"
   ]
  },
  {
   "cell_type": "code",
   "execution_count": 15,
   "id": "5b15952b-235c-45b0-bc2b-c7409d062b23",
   "metadata": {},
   "outputs": [
    {
     "name": "stdout",
     "output_type": "stream",
     "text": [
      "The original string is :  nikita\n",
      "The reversed string is :  atikin\n"
     ]
    }
   ],
   "source": [
    "#Write a program to print the characters of a string in reverse order using a `for` loop.\n",
    "def reverse(s):\n",
    "\tstr = \"\"\n",
    "\tfor i in s:\n",
    "\t\tstr = i + str\n",
    "\treturn str\n",
    "\n",
    "s = \"nikita\"\n",
    "\n",
    "print(\"The original string is : \", s)\n",
    "\n",
    "\n",
    "print(\"The reversed string is : \", reverse(s))\n",
    "\n"
   ]
  },
  {
   "cell_type": "code",
   "execution_count": 1,
   "id": "6aa41058-219c-404c-90a0-b9f4375145ef",
   "metadata": {},
   "outputs": [
    {
     "name": "stdin",
     "output_type": "stream",
     "text": [
      "Enter a number:  4\n"
     ]
    },
    {
     "name": "stdout",
     "output_type": "stream",
     "text": [
      "The factorial of 4 is 24\n"
     ]
    }
   ],
   "source": [
    "#Develop a program that finds the factorial of a given number using a `for` loop.\n",
    "n = int(input(\"Enter a number: \"))\n",
    "\n",
    "factorial = 1\n",
    "\n",
    "if n < 0: #Check if the number is negative\n",
    "   print(\"Factors do not exist for negative numbers.\")\n",
    "elif n == 0: #Check if the number is zero\n",
    "   print(\"The factorial of 0 is 1.\")\n",
    "else:\n",
    "   for i in range(1,n + 1):\n",
    "       factorial = factorial*i\n",
    "   print(\"The factorial of\",n,\"is\",factorial)"
   ]
  },
  {
   "cell_type": "code",
   "execution_count": 4,
   "id": "7699a7c8-4957-46ba-95b8-024605091663",
   "metadata": {},
   "outputs": [
    {
     "name": "stdin",
     "output_type": "stream",
     "text": [
      "Enter the number of which the user wants to print the multiplication table:  7\n"
     ]
    },
    {
     "name": "stdout",
     "output_type": "stream",
     "text": [
      "The Multiplication Table of:  7\n",
      "7 x 1 = 7\n",
      "7 x 2 = 14\n",
      "7 x 3 = 21\n",
      "7 x 4 = 28\n",
      "7 x 5 = 35\n",
      "7 x 6 = 42\n",
      "7 x 7 = 49\n",
      "7 x 8 = 56\n",
      "7 x 9 = 63\n",
      "7 x 10 = 70\n"
     ]
    }
   ],
   "source": [
    "\n",
    "#5. Create a program to print the multiplication table of a given number using a `for` loop.\n",
    "number = int(input (\"Enter the number of which the user wants to print the multiplication table: \"))    \n",
    "print (\"The Multiplication Table of: \", number)    \n",
    "for count in range(1, 11):      \n",
    "   print (number,'x', count, '=', number * count) "
   ]
  },
  {
   "cell_type": "code",
   "execution_count": 6,
   "id": "4e971770-e825-411c-82ed-c6040594c62b",
   "metadata": {},
   "outputs": [
    {
     "name": "stdout",
     "output_type": "stream",
     "text": [
      "even num in list: 2\n",
      "odd num in list: 3\n"
     ]
    }
   ],
   "source": [
    "#Write a program that counts the number of even and odd numbers in a list using a `for` loop.\n",
    "list = [1,2,3,4,5]\n",
    "even,odd = 0,0\n",
    "for i in list:\n",
    "    if i%2 == 0:\n",
    "        even += 1\n",
    "    else:\n",
    "        odd += 1\n",
    "print('even num in list:',even)\n",
    "print('odd num in list:',odd)\n",
    "        \n",
    "    \n",
    "    \n",
    "    "
   ]
  },
  {
   "cell_type": "code",
   "execution_count": 16,
   "id": "74f4799a-9b87-4eda-bf16-07c788cd9d1a",
   "metadata": {},
   "outputs": [
    {
     "name": "stdout",
     "output_type": "stream",
     "text": [
      "the square of numbers are [1, 4, 9, 16, 25]\n"
     ]
    }
   ],
   "source": [
    "#7. Develop a program that prints the squares of numbers from 1 to 5 using a `for` loop.\n",
    "l= []\n",
    "\n",
    "for num in range(1,6):\n",
    "    l.append(num*num)    \n",
    "print('the square of numbers are',l)"
   ]
  },
  {
   "cell_type": "code",
   "execution_count": 24,
   "id": "30a9a39d-6436-4862-b416-aed38f1e7c9d",
   "metadata": {},
   "outputs": [
    {
     "name": "stdout",
     "output_type": "stream",
     "text": [
      "9\n"
     ]
    }
   ],
   "source": [
    "#Create a program to find the length of a string without using the `len()` function\n",
    "s = 'yadavniki'\n",
    "count = 0\n",
    "for i in s:\n",
    "    count += 1\n",
    "print(count)"
   ]
  },
  {
   "cell_type": "code",
   "execution_count": 26,
   "id": "7b11dd49-2fcf-44be-9444-42ca217ccbea",
   "metadata": {},
   "outputs": [
    {
     "name": "stdout",
     "output_type": "stream",
     "text": [
      "2.5\n"
     ]
    }
   ],
   "source": [
    "#Write a program that calculates the average of a list of numbers using a `for` loop.\n",
    "l = [1,2,3,4]\n",
    "avg = 0\n",
    "for i in l:\n",
    "    avg = sum(l)/len(l)\n",
    "print(avg)"
   ]
  },
  {
   "cell_type": "code",
   "execution_count": 29,
   "id": "6722406a-e978-4997-a36a-87a3744e8fcb",
   "metadata": {},
   "outputs": [
    {
     "name": "stdout",
     "output_type": "stream",
     "text": [
      "0 1 1 2 3 5 8 "
     ]
    }
   ],
   "source": [
    "#Develop a program that prints the first `n` Fibonacci numbers using a `for` loop.\n",
    "def printFibonacciNumbers(n): \n",
    "  \n",
    "    f1 = 0\n",
    "    f2 = 1\n",
    "    if (n < 1): \n",
    "        return\n",
    "    print(f1, end=\" \") \n",
    "    for x in range(1, n): \n",
    "        print(f2, end=\" \") \n",
    "        next = f1 + f2 \n",
    "        f1 = f2 \n",
    "        f2 = next\n",
    "printFibonacciNumbers(7) "
   ]
  },
  {
   "cell_type": "code",
   "execution_count": 32,
   "id": "51089443-a1cf-4a80-be86-aea1003092a6",
   "metadata": {},
   "outputs": [
    {
     "name": "stdout",
     "output_type": "stream",
     "text": [
      "[1, 2, 5, 9]\n"
     ]
    }
   ],
   "source": [
    "#11. Write a program to check if a given list contains any duplicates using a `for` loop.\n",
    "# Python program to print duplicates from \n",
    "# a list of integers\n",
    "lis = [1, 2, 1, 2, 3, 4, 5, 1, 1, 2, 5, 6, 7, 8, 9, 9]\n",
    "\n",
    "uniqueList = []\n",
    "duplicateList = []\n",
    "\n",
    "for i in lis:\n",
    "\tif i not in uniqueList:\n",
    "\t\tuniqueList.append(i)\n",
    "\telif i not in duplicateList:\n",
    "\t\tduplicateList.append(i)\n",
    "\n",
    "print(duplicateList)\n"
   ]
  },
  {
   "cell_type": "code",
   "execution_count": 34,
   "id": "88a263aa-c6c0-47c6-adf3-79eed4530faa",
   "metadata": {},
   "outputs": [
    {
     "name": "stdout",
     "output_type": "stream",
     "text": [
      "2\n",
      "3\n",
      "5\n",
      "7\n"
     ]
    }
   ],
   "source": [
    "#Create a program that prints the prime numbers in a given range using a `for` loop.\n",
    "for num in range(1,10):\n",
    "   if num > 1:\n",
    "       for i in range(2, num):\n",
    "           if (num % i) == 0:\n",
    "               break\n",
    "       else:\n",
    "           print(num)"
   ]
  },
  {
   "cell_type": "code",
   "execution_count": 37,
   "id": "9978071d-fdcb-4872-ba0c-0ba11c8545a0",
   "metadata": {},
   "outputs": [
    {
     "name": "stdout",
     "output_type": "stream",
     "text": [
      "u\n",
      "e\n"
     ]
    }
   ],
   "source": [
    "# Develop a program that counts the number of vowels in a string using a `for` loop.\n",
    "vowels = ['a','e','i','o','u','A','E','I','O','U']\n",
    "str = 'cluster'\n",
    "for i in str:\n",
    "    if i in vowels:\n",
    "        print(i)\n",
    "    "
   ]
  },
  {
   "cell_type": "code",
   "execution_count": 44,
   "id": "2edb4da3-52a4-4314-b2d8-a906d66a8672",
   "metadata": {},
   "outputs": [
    {
     "name": "stdout",
     "output_type": "stream",
     "text": [
      "The maximum element in the matrix is: 9\n"
     ]
    }
   ],
   "source": [
    "#Write a program to find the maximum element in a 2D list using a nested `for` loop.\n",
    "def find_max_element(matrix):\n",
    "    max_element = float('-inf')\n",
    "    for row in matrix:\n",
    "        for element in row:\n",
    "            if element > max_element:\n",
    "                max_element = element\n",
    "\n",
    "    return max_element\n",
    "matrix = [\n",
    "    [1, 5, 3],\n",
    "    [9, 7, 2],\n",
    "    [4, 8, 6]\n",
    "]\n",
    "\n",
    "result = find_max_element(matrix)\n",
    "print(f\"The maximum element in the matrix is: {result}\")\n",
    "\n",
    "    "
   ]
  },
  {
   "cell_type": "code",
   "execution_count": 16,
   "id": "b100585a-f5df-4a5b-a02a-61175caefdf6",
   "metadata": {},
   "outputs": [
    {
     "name": "stdout",
     "output_type": "stream",
     "text": [
      "[10, 70, 80, 90, 20, 30]\n"
     ]
    }
   ],
   "source": [
    "#Create a program that removes all occurrences of a specific element from a list using a `for` loop.\n",
    "def removing_elements(my_list, element):\n",
    "   element_count = my_list.count(element)\n",
    "   for i in range(element_count):\n",
    "      my_list.remove(element)\n",
    "   return my_list"
   ]
  },
  {
   "cell_type": "code",
   "execution_count": 5,
   "id": "62e42dc8-c041-4e79-b8f8-56baa25b4d96",
   "metadata": {},
   "outputs": [
    {
     "name": "stdout",
     "output_type": "stream",
     "text": [
      "The list before performing the removal operation is: \n",
      "[1, 10, 20, 10, 22, 21, 22, 16, 18, 10, 22, 10, 8, 10]\n",
      "The list after performing the removal operation is: \n",
      "[1, 10, 20, 10, 21, 16, 18, 10, 10, 8, 10]\n"
     ]
    }
   ],
   "source": [
    "#Create a program that removes all occurrences of a specific element from a list using a `for` loop.\n",
    "def removing_elements(my_list, element):\n",
    "   element_count = my_list.count(element)\n",
    "   for i in range(element_count):\n",
    "      my_list.remove(element)\n",
    "   return my_list\n",
    "my_list = [1, 10, 20, 10, 22, 21, 22, 16, 18, 10, 22, 10, 8, 10]\n",
    "element = 22\n",
    "print(\"The list before performing the removal operation is: \")\n",
    "print(my_list)\n",
    "result = removing_elements(my_list, element)\n",
    "print(\"The list after performing the removal operation is: \") \n",
    "print(result)"
   ]
  },
  {
   "cell_type": "code",
   "execution_count": 9,
   "id": "46febc2b-1bc8-43b9-a5b6-8e1cec929f74",
   "metadata": {},
   "outputs": [
    {
     "name": "stdout",
     "output_type": "stream",
     "text": [
      "Multiplication table for 1:\n",
      "1 x 1 = 1\n",
      "1 x 2 = 2\n",
      "1 x 3 = 3\n",
      "1 x 4 = 4\n",
      "1 x 5 = 5\n",
      "1 x 6 = 6\n",
      "1 x 7 = 7\n",
      "1 x 8 = 8\n",
      "1 x 9 = 9\n",
      "1 x 10 = 10\n",
      "\n",
      "Multiplication table for 2:\n",
      "2 x 1 = 2\n",
      "2 x 2 = 4\n",
      "2 x 3 = 6\n",
      "2 x 4 = 8\n",
      "2 x 5 = 10\n",
      "2 x 6 = 12\n",
      "2 x 7 = 14\n",
      "2 x 8 = 16\n",
      "2 x 9 = 18\n",
      "2 x 10 = 20\n",
      "\n",
      "Multiplication table for 3:\n",
      "3 x 1 = 3\n",
      "3 x 2 = 6\n",
      "3 x 3 = 9\n",
      "3 x 4 = 12\n",
      "3 x 5 = 15\n",
      "3 x 6 = 18\n",
      "3 x 7 = 21\n",
      "3 x 8 = 24\n",
      "3 x 9 = 27\n",
      "3 x 10 = 30\n",
      "\n",
      "Multiplication table for 4:\n",
      "4 x 1 = 4\n",
      "4 x 2 = 8\n",
      "4 x 3 = 12\n",
      "4 x 4 = 16\n",
      "4 x 5 = 20\n",
      "4 x 6 = 24\n",
      "4 x 7 = 28\n",
      "4 x 8 = 32\n",
      "4 x 9 = 36\n",
      "4 x 10 = 40\n",
      "\n",
      "Multiplication table for 5:\n",
      "5 x 1 = 5\n",
      "5 x 2 = 10\n",
      "5 x 3 = 15\n",
      "5 x 4 = 20\n",
      "5 x 5 = 25\n",
      "5 x 6 = 30\n",
      "5 x 7 = 35\n",
      "5 x 8 = 40\n",
      "5 x 9 = 45\n",
      "5 x 10 = 50\n",
      "\n"
     ]
    }
   ],
   "source": [
    "#Develop a program that generates a multiplication table for numbers from 1 to 5 using a nested `for` loop.\n",
    "\n",
    "    for i in range(1, 6):\n",
    "        print(f\"Multiplication table for {i}:\")\n",
    "        for j in range(1, 11):\n",
    "            result = i * j\n",
    "            print(f\"{i} x {j} = {result}\")\n",
    "        print()  # Add a newline after each table\n",
    "\n",
    "# Call the function \n",
    "multiplication_table()\n"
   ]
  },
  {
   "cell_type": "code",
   "execution_count": 14,
   "id": "e1eab7c6-b194-4523-bd4a-36587e5daea6",
   "metadata": {},
   "outputs": [
    {
     "name": "stdout",
     "output_type": "stream",
     "text": [
      "[31, 19, 33, 37]\n"
     ]
    }
   ],
   "source": [
    "# Write a program that converts a list of Fahrenheit temperatures to Celsius using a `for` loop.\n",
    "fahrenheit = [89, 67, 92, 99]\n",
    "cen = []\n",
    "\n",
    "for c in fahrenheit:\n",
    "    t = (c - 32) * 5//9\n",
    "    cen.append(t)\n",
    "print(cen)"
   ]
  },
  {
   "cell_type": "code",
   "execution_count": 19,
   "id": "fdd5d170-eeb9-40b1-ab0e-33f41643d8da",
   "metadata": {},
   "outputs": [
    {
     "name": "stdout",
     "output_type": "stream",
     "text": [
      "[4, 6]\n"
     ]
    }
   ],
   "source": [
    "#Create a program to print the common elements from two lists using a `for` loop.\n",
    "\n",
    "l1 = [1,4,6,8,9]\n",
    "l2 = [2,4,6,10,11]\n",
    "c = []\n",
    "for i in l1:\n",
    "    if i in l2:\n",
    "        c.append(i)\n",
    "print(c)"
   ]
  },
  {
   "cell_type": "code",
   "execution_count": 22,
   "id": "8899114c-5860-441b-996d-a51f80040af8",
   "metadata": {},
   "outputs": [
    {
     "name": "stdout",
     "output_type": "stream",
     "text": [
      "* \n",
      "* * \n",
      "* * * \n",
      "* * * * \n",
      "* * * * * \n"
     ]
    }
   ],
   "source": [
    "#Develop a program that prints the pattern of right-angled triangles using a `for` loop. Use ‘*’ to draw the pattern\n",
    "rows = 5  \n",
    "\n",
    "for i in range(1, rows + 1):\n",
    "    for j in range(1, i + 1):\n",
    "        print('*', end=' ')\n",
    "    print()\n",
    "\n"
   ]
  },
  {
   "cell_type": "code",
   "execution_count": 3,
   "id": "d53a6fa2-4dd7-4233-9229-e39d02ee3e9e",
   "metadata": {},
   "outputs": [
    {
     "name": "stdout",
     "output_type": "stream",
     "text": [
      "    *\n",
      "   **\n",
      "  ***\n",
      " ****\n",
      "*****\n"
     ]
    }
   ],
   "source": [
    "rows = 5  # You can change the number of rows as needed\n",
    "\n",
    "for i in range(1, rows + 1):\n",
    "    spaces = ' ' * (rows - i)\n",
    "    stars = '*' * i\n",
    "    print(spaces + stars)\n"
   ]
  },
  {
   "cell_type": "code",
   "execution_count": 8,
   "id": "17f785f3-5525-4216-b46c-1681fcebc58f",
   "metadata": {},
   "outputs": [
    {
     "name": "stdout",
     "output_type": "stream",
     "text": [
      "GCD of 36 and 90 is 18\n"
     ]
    }
   ],
   "source": [
    "#Write a program to find the greatest common divisor (GCD) of two numbers using a `for` loop.\n",
    "num1 = 36\n",
    "num2 = 90\n",
    "gcd = 1\n",
    " \n",
    "for i in range(1, min(num1, num2)):\n",
    "    if num1 % i == 0 and num2 % i == 0:\n",
    "        gcd = i\n",
    "print(\"GCD of\", num1, \"and\", num2, \"is\", gcd)\n",
    "\n"
   ]
  },
  {
   "cell_type": "code",
   "execution_count": 1,
   "id": "86e61075-f4c4-417a-9b1f-aeb152445355",
   "metadata": {},
   "outputs": [
    {
     "name": "stdout",
     "output_type": "stream",
     "text": [
      "Number: 123, Sum of Digits: 6\n",
      "Number: 45, Sum of Digits: 9\n",
      "Number: 678, Sum of Digits: 21\n",
      "Number: -987, Sum of Digits: 24\n"
     ]
    }
   ],
   "source": [
    "#Create a program that calculates the sum of the digits of numbers in a list using a list comprehension.\n",
    "\n",
    "# Function to calculate the sum of digits in a number\n",
    "def sum_of_digits(number):\n",
    "    return sum(int(digit) for digit in str(abs(number)))\n",
    "\n",
    "# Example list of numbers\n",
    "numbers = [123, 45, 678, -987]\n",
    "\n",
    "# Calculate the sum of digits for each number using a list comprehension\n",
    "sum_of_digits_list = [sum_of_digits(num) for num in numbers]\n",
    "\n",
    "# Print the original numbers and their respective sums of digits\n",
    "for i in range(len(numbers)):\n",
    "    print(f\"Number: {numbers[i]}, Sum of Digits: {sum_of_digits_list[i]}\")\n"
   ]
  },
  {
   "cell_type": "code",
   "execution_count": 2,
   "id": "58e93b0c-9e79-4c67-9eae-f17fe1a4dd3a",
   "metadata": {},
   "outputs": [
    {
     "name": "stdout",
     "output_type": "stream",
     "text": [
      "The prime factors of 36 are: [2, 3]\n"
     ]
    }
   ],
   "source": [
    "# Write a program to find the prime factors of a given number using a `for` loop and list comprehension.\n",
    "\n",
    "def is_prime(num):\n",
    "    if num < 2:\n",
    "        return False\n",
    "    for i in range(2, int(num**0.5) + 1):\n",
    "        if num % i == 0:\n",
    "            return False\n",
    "    return True\n",
    "\n",
    "def prime_factors(n):\n",
    "    return [i for i in range(2, n + 1) if n % i == 0 and is_prime(i)]\n",
    "\n",
    "# Example usage\n",
    "number = 36\n",
    "\n",
    "print(f\"The prime factors of {number} are: {prime_factors(number)}\")\n"
   ]
  },
  {
   "cell_type": "code",
   "execution_count": 2,
   "id": "6afd17da-39cd-4d54-8a18-2c2bf2c69307",
   "metadata": {},
   "outputs": [
    {
     "name": "stdout",
     "output_type": "stream",
     "text": [
      "Original List: [1, 2, 2, 3, 4, 4, 5, 6, 6, 7]\n",
      "Unique Elements: [1, 2, 3, 4, 5, 6, 7]\n"
     ]
    }
   ],
   "source": [
    "#Develop a program that extracts unique elements from a list and stores them in a new list using a list comprehension.\n",
    "\n",
    "original_list = [1, 2, 2, 3, 4, 4, 5, 6, 6, 7]\n",
    "unique_elements = list(set(original_list))\n",
    "\n",
    "# Print the original list and the list of unique elements\n",
    "print(\"Original List:\", original_list)\n",
    "print(\"Unique Elements:\", unique_elements)\n"
   ]
  },
  {
   "cell_type": "code",
   "execution_count": 4,
   "id": "d8792908-2451-48d6-bf98-b66436b69ecc",
   "metadata": {},
   "outputs": [
    {
     "name": "stdout",
     "output_type": "stream",
     "text": [
      "Palindromic Numbers up to 100 : [0, 1, 2, 3, 4, 5, 6, 7, 8, 9, 11, 22, 33, 44, 55, 66, 77, 88, 99]\n"
     ]
    }
   ],
   "source": [
    "#Create a program that generates a list of all palindromic numbers up to a specified limit using a list  comprehension.\n",
    "\n",
    "# Function to check if a number is a palindrome\n",
    "def is_palindrome(num):\n",
    "    return str(num) == str(num)[::-1]\n",
    "\n",
    "# Specify the limit\n",
    "limit = 100\n",
    "\n",
    "# Generate a list of palindromic numbers up to the limit using a list comprehension\n",
    "palindromic_numbers = [num for num in range(limit + 1) if is_palindrome(num)]\n",
    "\n",
    "# Print the list of palindromic numbers\n",
    "print(\"Palindromic Numbers up to\", limit, \":\", palindromic_numbers)\n"
   ]
  },
  {
   "cell_type": "code",
   "execution_count": 5,
   "id": "1ac0a5de-747c-4d4a-a1f2-8ea5b788fd7c",
   "metadata": {},
   "outputs": [
    {
     "name": "stdout",
     "output_type": "stream",
     "text": [
      "Original Nested List: [[1, 2, 3], [4, 5], [6, 7, 8]]\n",
      "Flattened List: [1, 2, 3, 4, 5, 6, 7, 8]\n"
     ]
    }
   ],
   "source": [
    "#Write a program to flatten a nested list using list comprehension.\n",
    "# Example nested list\n",
    "nested_list = [[1, 2, 3], [4, 5], [6, 7, 8]]\n",
    "\n",
    "# Flatten the nested list using list comprehension\n",
    "flattened_list = [element for sublist in nested_list for element in sublist]\n",
    "\n",
    "# Print the original nested list and the flattened list\n",
    "print(\"Original Nested List:\", nested_list)\n",
    "print(\"Flattened List:\", flattened_list)\n"
   ]
  },
  {
   "cell_type": "code",
   "execution_count": 1,
   "id": "02d39e16-4aba-4ad9-a217-5852ee1a9075",
   "metadata": {},
   "outputs": [
    {
     "name": "stdout",
     "output_type": "stream",
     "text": [
      "Original List: [1, 2, 3, 4, 5, 6, 7, 8, 9, 10]\n",
      "Even Numbers: [2, 4, 6, 8, 10]\n",
      "Sum of Even Numbers: 30\n",
      "Odd Numbers: [1, 3, 5, 7, 9]\n",
      "Sum of Odd Numbers: 25\n"
     ]
    }
   ],
   "source": [
    "#Develop a program that computes the sum of even and odd numbers in a list separately using list comprehension.\n",
    "# Example list of numbers\n",
    "numbers = [1, 2, 3, 4, 5, 6, 7, 8, 9, 10]\n",
    "\n",
    "# Separate even and odd numbers using list comprehension\n",
    "even_numbers = [num for num in numbers if num % 2 == 0]\n",
    "odd_numbers = [num for num in numbers if num % 2 != 0]\n",
    "\n",
    "# Calculate the sum of even and odd numbers\n",
    "sum_even = sum(even_numbers)\n",
    "sum_odd = sum(odd_numbers)\n",
    "\n",
    "# Print the original list and the sum of even and odd numbers\n",
    "print(\"Original List:\", numbers)\n",
    "print(\"Even Numbers:\", even_numbers)\n",
    "print(\"Sum of Even Numbers:\", sum_even)\n",
    "print(\"Odd Numbers:\", odd_numbers)\n",
    "print(\"Sum of Odd Numbers:\", sum_odd)\n",
    "\n"
   ]
  },
  {
   "cell_type": "code",
   "execution_count": 1,
   "id": "1265c558-dad2-42e9-abea-d22e54582c66",
   "metadata": {},
   "outputs": [
    {
     "name": "stdout",
     "output_type": "stream",
     "text": [
      "Squares of Odd Numbers between 1 and 10: [1, 9, 25, 49, 81]\n"
     ]
    }
   ],
   "source": [
    "# Create a program that generates a list of squares of odd numbers between 1 and 10 using list comprehension.\n",
    "\n",
    "# Generate a list of squares of odd numbers between 1 and 10 using list comprehension\n",
    "squares_of_odd_numbers = [num ** 2 for num in range(1, 11) if num % 2 != 0]\n",
    "\n",
    "# Print the list of squares of odd numbers\n",
    "print(\"Squares of Odd Numbers between 1 and 10:\", squares_of_odd_numbers)\n"
   ]
  },
  {
   "cell_type": "code",
   "execution_count": 2,
   "id": "53b4ce45-2851-4c2c-9e0e-9f9413f6f382",
   "metadata": {},
   "outputs": [
    {
     "name": "stdout",
     "output_type": "stream",
     "text": [
      "Combined Dictionary: {'name': 'John', 'age': 25, 'city': 'New York'}\n"
     ]
    }
   ],
   "source": [
    "#Write a program that combines two lists into a dictionary using list comprehension.\n",
    "# Example lists\n",
    "keys = ['name', 'age', 'city']\n",
    "values = ['John', 25, 'New York']\n",
    "\n",
    "# Combine lists into a dictionary using list comprehension\n",
    "combined_dict = {keys[i]: values[i] for i in range(min(len(keys), len(values)))}\n",
    "\n",
    "# Print the resulting dictionary\n",
    "print(\"Combined Dictionary:\", combined_dict)\n"
   ]
  },
  {
   "cell_type": "code",
   "execution_count": 5,
   "id": "07309766-57f2-4f3f-8e71-56d4bf6294bc",
   "metadata": {},
   "outputs": [
    {
     "name": "stdout",
     "output_type": "stream",
     "text": [
      "Original String: physics WALLah\n",
      "Vowels in the String: ['i', 'a', 'a']\n"
     ]
    }
   ],
   "source": [
    "#Develop a program that extracts the vowels from a string and stores them in a list using list comprehension.\n",
    "\n",
    "# Example string\n",
    "input_string = \"physics WALLah\"\n",
    "\n",
    "# Extract vowels from the string using list comprehension\n",
    "vowels = [char.lower() for char in input_string if char.lower() in 'aeiou']\n",
    "\n",
    "# Print the original string and the list of vowels\n",
    "print(\"Original String:\", input_string)\n",
    "print(\"Vowels in the String:\", vowels)\n"
   ]
  },
  {
   "cell_type": "code",
   "execution_count": 9,
   "id": "ab938a75-3263-4c77-8b14-246d1fba6b7c",
   "metadata": {},
   "outputs": [
    {
     "name": "stdout",
     "output_type": "stream",
     "text": [
      "Original List: ['abc123', '456def', '789ghi', 'jklm']\n",
      "List with Non-Numeric Characters Removed: ['123', '456', '789', '']\n"
     ]
    }
   ],
   "source": [
    "#Create a program that removes all non-numeric characters from a list of strings using list comprehension.\n",
    "string_list = ['abc123', '456def', '789ghi', 'jklm']\n",
    "\n",
    "# Remove non-numeric characters from each string using list comprehension\n",
    "numeric_strings = [''.join(char for char in string if char.isnumeric()) for string in string_list]\n",
    "\n",
    "# Print the original list and the list with non-numeric characters removed\n",
    "print(\"Original List:\", string_list)\n",
    "print(\"List with Non-Numeric Characters Removed:\", numeric_strings)\n"
   ]
  },
  {
   "cell_type": "code",
   "execution_count": 3,
   "id": "69ae5e6c-cf95-4741-8147-ae7025eb070c",
   "metadata": {},
   "outputs": [
    {
     "name": "stdin",
     "output_type": "stream",
     "text": [
      "enter limit : 50\n"
     ]
    },
    {
     "name": "stdout",
     "output_type": "stream",
     "text": [
      "2 3 5 7 11 13 17 19 23 29 31 37 41 43 47 "
     ]
    }
   ],
   "source": [
    "# Write a program to generate a list of prime numbers using the Sieve of Eratosthenes algorithm and list comprehension.\n",
    "\n",
    "def prime_sieve(n):\n",
    "    prime=[0 for i in range(101)]\n",
    "    for i in range(2,n+1):\n",
    "        prime[i]==0\n",
    "        for j in range(i*i,n+1,i):\n",
    "            prime[j]=1 # numbers which are composite \n",
    "    for i in range(2,n+1):\n",
    "        if prime[i]==0: # left over prime numbers \n",
    "            print(i,end = ' ')\n",
    "\n",
    "rng = int(input('enter limit :'))\n",
    "prime_sieve(rng)"
   ]
  },
  {
   "cell_type": "code",
   "execution_count": 4,
   "id": "a403121f-cc26-48a1-b07d-6aeecbe07509",
   "metadata": {},
   "outputs": [
    {
     "name": "stdout",
     "output_type": "stream",
     "text": [
      "the numbers 3,4 and 5 are pythagorean triplets\n",
      "the numbers 5,12 and 13 are pythagorean triplets\n",
      "the numbers 6,8 and 10 are pythagorean triplets\n",
      "the numbers 7,24 and 25 are pythagorean triplets\n",
      "the numbers 8,15 and 17 are pythagorean triplets\n",
      "the numbers 9,12 and 15 are pythagorean triplets\n",
      "the numbers 9,40 and 41 are pythagorean triplets\n",
      "the numbers 10,24 and 26 are pythagorean triplets\n",
      "the numbers 11,60 and 61 are pythagorean triplets\n",
      "the numbers 12,16 and 20 are pythagorean triplets\n",
      "the numbers 12,35 and 37 are pythagorean triplets\n",
      "the numbers 13,84 and 85 are pythagorean triplets\n",
      "the numbers 14,48 and 50 are pythagorean triplets\n",
      "the numbers 15,20 and 25 are pythagorean triplets\n",
      "the numbers 15,36 and 39 are pythagorean triplets\n",
      "the numbers 16,30 and 34 are pythagorean triplets\n",
      "the numbers 16,63 and 65 are pythagorean triplets\n",
      "the numbers 18,24 and 30 are pythagorean triplets\n",
      "the numbers 18,80 and 82 are pythagorean triplets\n",
      "the numbers 20,21 and 29 are pythagorean triplets\n",
      "the numbers 20,48 and 52 are pythagorean triplets\n",
      "the numbers 21,28 and 35 are pythagorean triplets\n",
      "the numbers 21,72 and 75 are pythagorean triplets\n",
      "the numbers 24,32 and 40 are pythagorean triplets\n",
      "the numbers 24,45 and 51 are pythagorean triplets\n",
      "the numbers 24,70 and 74 are pythagorean triplets\n",
      "the numbers 25,60 and 65 are pythagorean triplets\n",
      "the numbers 27,36 and 45 are pythagorean triplets\n",
      "the numbers 28,45 and 53 are pythagorean triplets\n",
      "the numbers 30,40 and 50 are pythagorean triplets\n",
      "the numbers 30,72 and 78 are pythagorean triplets\n",
      "the numbers 32,60 and 68 are pythagorean triplets\n",
      "the numbers 33,44 and 55 are pythagorean triplets\n",
      "the numbers 33,56 and 65 are pythagorean triplets\n",
      "the numbers 35,84 and 91 are pythagorean triplets\n",
      "the numbers 36,48 and 60 are pythagorean triplets\n",
      "the numbers 36,77 and 85 are pythagorean triplets\n",
      "the numbers 39,52 and 65 are pythagorean triplets\n",
      "the numbers 39,80 and 89 are pythagorean triplets\n",
      "the numbers 40,42 and 58 are pythagorean triplets\n",
      "the numbers 40,75 and 85 are pythagorean triplets\n",
      "the numbers 42,56 and 70 are pythagorean triplets\n",
      "the numbers 45,60 and 75 are pythagorean triplets\n",
      "the numbers 48,55 and 73 are pythagorean triplets\n",
      "the numbers 48,64 and 80 are pythagorean triplets\n",
      "the numbers 51,68 and 85 are pythagorean triplets\n",
      "the numbers 54,72 and 90 are pythagorean triplets\n",
      "the numbers 57,76 and 95 are pythagorean triplets\n",
      "the numbers 60,63 and 87 are pythagorean triplets\n",
      "the numbers 65,72 and 97 are pythagorean triplets\n"
     ]
    }
   ],
   "source": [
    "#Create a program that generates a list of all Pythagorean triplets up to a specified limit using list comprehension.\n",
    "\n",
    "for a in range(1,100):\n",
    "    for b in range(1,100):\n",
    "        for c in range(1,100):\n",
    "            if a*a + b*b == c*c:\n",
    "                print(f'the numbers {a},{b} and {c} are pythagorean triplets')\n",
    "\n"
   ]
  },
  {
   "cell_type": "code",
   "execution_count": 5,
   "id": "7fbd1f13-326b-4a6e-8169-398dcff5cd8e",
   "metadata": {},
   "outputs": [
    {
     "name": "stdout",
     "output_type": "stream",
     "text": [
      "All Possible Combinations:\n",
      "(1, 'a')\n",
      "(1, 'b')\n",
      "(1, 'c')\n",
      "(2, 'a')\n",
      "(2, 'b')\n",
      "(2, 'c')\n",
      "(3, 'a')\n",
      "(3, 'b')\n",
      "(3, 'c')\n"
     ]
    }
   ],
   "source": [
    "#Develop a program that generates a list of all possible combinations of two lists using list comprehension.\n",
    "\n",
    "list1 = [1, 2, 3]\n",
    "list2 = ['a', 'b', 'c']\n",
    "combinations = [(x, y) for x in list1 for y in list2]\n",
    "\n",
    "# Print the list of combinations\n",
    "print(\"All Possible Combinations:\")\n",
    "for combination in combinations:\n",
    "    print(combination)"
   ]
  },
  {
   "cell_type": "code",
   "execution_count": 6,
   "id": "a45b2849-13b8-44a4-a9c4-9eb6a0a67683",
   "metadata": {},
   "outputs": [
    {
     "name": "stdout",
     "output_type": "stream",
     "text": [
      "List of Numbers: [2, 4, 5, 8, 4, 6, 1, 2, 9, 4, 7]\n",
      "Mean: 4.7272727272727275\n",
      "Median: 4\n",
      "Mode: 4\n"
     ]
    }
   ],
   "source": [
    "# Write a program that calculates the mean, median, and mode of a list of numbers using list comprehension.\n",
    "\n",
    "from statistics import mean, median, mode\n",
    "\n",
    "# Example list of numbers\n",
    "numbers = [2, 4, 5, 8, 4, 6, 1, 2, 9, 4, 7]\n",
    "mean_value = mean(numbers)\n",
    "median_value = median(numbers)\n",
    "mode_value = mode(numbers)\n",
    "\n",
    "# Print the results\n",
    "print(f\"List of Numbers: {numbers}\")\n",
    "print(f\"Mean: {mean_value}\")\n",
    "print(f\"Median: {median_value}\")\n",
    "print(f\"Mode: {mode_value}\")\n",
    "\n"
   ]
  },
  {
   "cell_type": "code",
   "execution_count": 2,
   "id": "4a6e16e1-71d7-4402-9d31-8d240a79c2bc",
   "metadata": {},
   "outputs": [
    {
     "name": "stdout",
     "output_type": "stream",
     "text": [
      "       1 \n",
      "      1 1 \n",
      "     1 2 1 \n",
      "    1 3 3 1 \n",
      "   1 4 6 4 1 \n",
      "  1 5 10 10 5 1 \n"
     ]
    }
   ],
   "source": [
    "#Create a program that generates Pascal's triangle up to a specified number of rows using list comprehension.\n",
    "# Print Pascal's Triangle in Python\n",
    "from math import factorial\n",
    "\n",
    "# input n\n",
    "n = 6\n",
    "for i in range(n):\n",
    "\tfor j in range(n-i+1):\n",
    "\n",
    "\t\t# for left spacing\n",
    "\t\tprint(end=\" \")\n",
    "\n",
    "\tfor j in range(i+1):\n",
    "\n",
    "\t\t# nCr = n!/((n-r)!*r!)\n",
    "\t\tprint(factorial(i)//(factorial(j)*factorial(i-j)), end=\" \")\n",
    "\n",
    "\t# for new line\n",
    "\tprint()\n",
    "\n"
   ]
  },
  {
   "cell_type": "code",
   "execution_count": 5,
   "id": "176bb7be-9bf9-41bd-bfbf-b638b13c1ab6",
   "metadata": {},
   "outputs": [
    {
     "name": "stdout",
     "output_type": "stream",
     "text": [
      "Factorial of 1 and sum of digits: 1\n",
      "Factorial of 2 and sum of digits: 2\n",
      "Factorial of 3 and sum of digits: 6\n",
      "Factorial of 4 and sum of digits: 6\n",
      "Factorial of 5 and sum of digits: 3\n"
     ]
    }
   ],
   "source": [
    "#Develop a program that calculates the sum of the digits of a factorial of numbers from 1 to 5 using list comprehension.\n",
    "import math\n",
    "\n",
    "# Function to calculate the sum of digits of a number\n",
    "def sum_of_digits(number):\n",
    "    return sum(int(digit) for digit in str(number))\n",
    "\n",
    "# Calculate factorial and sum of digits using list comprehension\n",
    "factorials_sum_of_digits = [sum_of_digits(math.factorial(i)) for i in range(1, 6)]\n",
    "\n",
    "# Display the results\n",
    "for i, result in enumerate(factorials_sum_of_digits, start=1):\n",
    "    print(f\"Factorial of {i} and sum of digits: {result}\")\n",
    "\n"
   ]
  },
  {
   "cell_type": "code",
   "execution_count": 6,
   "id": "672e7959-92ae-4815-ac22-d4049873f033",
   "metadata": {},
   "outputs": [
    {
     "name": "stdout",
     "output_type": "stream",
     "text": [
      "The longest word is: sentence\n"
     ]
    }
   ],
   "source": [
    "#Write a program that finds the longest word in a sentence using list comprehension.\n",
    "\n",
    "def longest_word(sentence):\n",
    "    words = sentence.split()  # Split the sentence into words\n",
    "    longest = max(words, key=lambda word: len(word))  # Find the longest word using list comprehension\n",
    "    return longest\n",
    "input_sentence = \"This is an example sentence to find the longest word.\"\n",
    "result = longest_word(input_sentence)\n",
    "print(f\"The longest word is: {result}\")\n"
   ]
  },
  {
   "cell_type": "code",
   "execution_count": 7,
   "id": "1170a5de-392d-427a-b792-80795c04a9e1",
   "metadata": {},
   "outputs": [
    {
     "name": "stdout",
     "output_type": "stream",
     "text": [
      "Original strings: ['hello', 'world', 'python', 'example', 'vowels', 'programming']\n",
      "Filtered strings with more than three vowels: []\n"
     ]
    }
   ],
   "source": [
    "#Create a program that filters a list of strings to include only those with more than three vowels using list comprehension.\n",
    "\n",
    "def count_vowels(word):\n",
    "    # Function to count the number of vowels in a word\n",
    "    return sum(1 for char in word if char.lower() in 'aeiou')\n",
    "\n",
    "def filter_strings_by_vowels(string_list):\n",
    "    # List comprehension to filter strings with more than three vowels\n",
    "    return [word for word in string_list if count_vowels(word) > 3]\n",
    "\n",
    "# Example usage:\n",
    "input_strings = [\"hello\", \"world\", \"python\", \"example\", \"vowels\", \"programming\"]\n",
    "filtered_strings = filter_strings_by_vowels(input_strings)\n",
    "\n",
    "print(\"Original strings:\", input_strings)\n",
    "print(\"Filtered strings with more than three vowels:\", filtered_strings)\n"
   ]
  },
  {
   "cell_type": "code",
   "execution_count": 8,
   "id": "08963cc7-b96d-4e93-9e62-6e6bd1346d23",
   "metadata": {},
   "outputs": [
    {
     "name": "stdout",
     "output_type": "stream",
     "text": [
      "The total sum of digits for numbers from 1 to 1000 is: 13501\n"
     ]
    }
   ],
   "source": [
    "#Develop a program that calculates the sum of the digits of numbers from 1 to 1000 using list comprehension.\n",
    "\n",
    "# Function to calculate the sum of digits of a number\n",
    "def sum_of_digits(number):\n",
    "    return sum(int(digit) for digit in str(number))\n",
    "\n",
    "# List comprehension to calculate the sum of digits for numbers from 1 to 1000\n",
    "sums = [sum_of_digits(num) for num in range(1, 1001)]\n",
    "\n",
    "# Calculate and display the total sum\n",
    "total_sum = sum(sums)\n",
    "print(f\"The total sum of digits for numbers from 1 to 1000 is: {total_sum}\")\n"
   ]
  },
  {
   "cell_type": "code",
   "execution_count": 9,
   "id": "c282416f-ff51-4026-b5a4-707979a2ac70",
   "metadata": {},
   "outputs": [
    {
     "name": "stdout",
     "output_type": "stream",
     "text": [
      "Prime palindromic numbers: [2, 3, 5, 7, 11, 101, 131, 151, 181, 191, 313, 353, 373, 383, 727, 757, 787, 797, 919, 929]\n"
     ]
    }
   ],
   "source": [
    "#Write a program that generates a list of prime palindromic numbers using list comprehension.\n",
    "def is_prime(number):\n",
    "    if number < 2:\n",
    "        return False\n",
    "    for i in range(2, int(number**0.5) + 1):\n",
    "        if number % i == 0:\n",
    "            return False\n",
    "    return True\n",
    "\n",
    "def is_palindrome(number):\n",
    "    return str(number) == str(number)[::-1]\n",
    "\n",
    "# List comprehension to generate a list of prime palindromic numbers\n",
    "prime_palindromes = [num for num in range(1, 1000) if is_prime(num) and is_palindrome(num)]\n",
    "\n",
    "# Display the list of prime palindromic numbers\n",
    "print(\"Prime palindromic numbers:\", prime_palindromes)\n",
    "\n"
   ]
  },
  {
   "cell_type": "code",
   "execution_count": null,
   "id": "dc35c97a-4bc8-4bbf-bef7-a7fad5f295e4",
   "metadata": {},
   "outputs": [],
   "source": []
  }
 ],
 "metadata": {
  "kernelspec": {
   "display_name": "Python 3 (ipykernel)",
   "language": "python",
   "name": "python3"
  },
  "language_info": {
   "codemirror_mode": {
    "name": "ipython",
    "version": 3
   },
   "file_extension": ".py",
   "mimetype": "text/x-python",
   "name": "python",
   "nbconvert_exporter": "python",
   "pygments_lexer": "ipython3",
   "version": "3.10.8"
  }
 },
 "nbformat": 4,
 "nbformat_minor": 5
}
